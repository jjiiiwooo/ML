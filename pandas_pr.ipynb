{
 "cells": [
  {
   "cell_type": "code",
   "execution_count": 1,
   "id": "20fd10df-c7e7-49b4-b3e8-2fb4d058e9c1",
   "metadata": {},
   "outputs": [],
   "source": [
    "import pandas as pd\n",
    "data = pd.DataFrame({'01/01':[2,2,1,4],'01/02':[-5,0,-1,-3],'01/03':[1,4,0,-2],'01/04':[-3,1,2,3\n",
    "]},index=['서울','대전','대구','부산'])"
   ]
  },
  {
   "cell_type": "code",
   "execution_count": 3,
   "id": "9a6018be-718d-42c6-8314-7ad126ac4166",
   "metadata": {},
   "outputs": [
    {
     "name": "stdout",
     "output_type": "stream",
     "text": [
      "01/01    4\n",
      "01/02    4\n",
      "01/03    4\n",
      "01/04    4\n",
      "dtype: int64\n",
      "서울    4\n",
      "대전    4\n",
      "대구    4\n",
      "부산    4\n",
      "dtype: int64\n"
     ]
    }
   ],
   "source": [
    "print(data.count()) # 데이터의 숫자\n",
    "print(data.count(axis=1)) # 행별 데이터 개수 "
   ]
  },
  {
   "cell_type": "code",
   "execution_count": 4,
   "id": "c5c18d5d-b269-4fe2-ae76-a7efbde937b9",
   "metadata": {},
   "outputs": [
    {
     "name": "stdout",
     "output_type": "stream",
     "text": [
      "01/01    9\n",
      "01/02   -9\n",
      "01/03    3\n",
      "01/04    3\n",
      "dtype: int64\n"
     ]
    }
   ],
   "source": [
    "print(data.sum()) #합계 , 열합계, 행합계"
   ]
  },
  {
   "cell_type": "code",
   "execution_count": 6,
   "id": "ff926f0b-e337-4566-8973-7954ac9706e9",
   "metadata": {},
   "outputs": [
    {
     "name": "stdout",
     "output_type": "stream",
     "text": [
      "서울    4\n",
      "대전    4\n",
      "대구    4\n",
      "부산    4\n",
      "dtype: int64\n"
     ]
    }
   ],
   "source": [
    "print(data.count(axis=1))"
   ]
  },
  {
   "cell_type": "code",
   "execution_count": 7,
   "id": "068edad8-32d5-4637-aeae-5aea99f4563e",
   "metadata": {},
   "outputs": [
    {
     "name": "stdout",
     "output_type": "stream",
     "text": [
      "01/01    2.25\n",
      "01/02   -2.25\n",
      "01/03    0.75\n",
      "01/04    0.75\n",
      "dtype: float64\n"
     ]
    }
   ],
   "source": [
    "print(data.mean())"
   ]
  },
  {
   "cell_type": "code",
   "execution_count": 8,
   "id": "1c587a72-0ea8-4f81-8c7a-a4e05d8c001d",
   "metadata": {},
   "outputs": [
    {
     "name": "stdout",
     "output_type": "stream",
     "text": [
      "서울   -1.25\n",
      "대전    1.75\n",
      "대구    0.50\n",
      "부산    0.50\n",
      "dtype: float64\n"
     ]
    }
   ],
   "source": [
    "print(data.mean(axis=1))"
   ]
  },
  {
   "cell_type": "code",
   "execution_count": 9,
   "id": "dd00991e-ef73-4acb-aeb6-94cf8a884fea",
   "metadata": {},
   "outputs": [
    {
     "name": "stdout",
     "output_type": "stream",
     "text": [
      "01/01    4\n",
      "01/02    0\n",
      "01/03    4\n",
      "01/04    3\n",
      "dtype: int64\n",
      "\n",
      "서울    2\n",
      "대전    4\n",
      "대구    2\n",
      "부산    4\n",
      "dtype: int64\n"
     ]
    }
   ],
   "source": [
    "print(data.max())\n",
    "print()\n",
    "print(data.max(axis=1))"
   ]
  },
  {
   "cell_type": "code",
   "execution_count": 10,
   "id": "05f2e8ef-4b37-4df0-a7d1-efa276208b80",
   "metadata": {},
   "outputs": [
    {
     "name": "stdout",
     "output_type": "stream",
     "text": [
      "01/01    1\n",
      "01/02   -5\n",
      "01/03   -2\n",
      "01/04   -3\n",
      "dtype: int64\n",
      "\n",
      "서울   -5\n",
      "대전    0\n",
      "대구   -1\n",
      "부산   -3\n",
      "dtype: int64\n"
     ]
    }
   ],
   "source": [
    "print(data.min())\n",
    "print()\n",
    "print(data.min(axis=1))"
   ]
  },
  {
   "cell_type": "code",
   "execution_count": 11,
   "id": "3ab226d6-dcd4-4883-85fd-52653b4a42a6",
   "metadata": {},
   "outputs": [
    {
     "name": "stdout",
     "output_type": "stream",
     "text": [
      "01/01    2.0\n",
      "01/02   -2.0\n",
      "01/03    0.5\n",
      "01/04    1.5\n",
      "dtype: float64\n",
      "\n",
      "서울   -1.0\n",
      "대전    1.5\n",
      "대구    0.5\n",
      "부산    0.5\n",
      "dtype: float64\n"
     ]
    }
   ],
   "source": [
    "print(data.median())\n",
    "print()\n",
    "print(data.median(axis=1))"
   ]
  },
  {
   "cell_type": "code",
   "execution_count": 12,
   "id": "bb46b3bc-82a3-407f-914f-026af13873d0",
   "metadata": {},
   "outputs": [
    {
     "name": "stdout",
     "output_type": "stream",
     "text": [
      "01/01    1.583333\n",
      "01/02    4.916667\n",
      "01/03    6.250000\n",
      "01/04    6.916667\n",
      "dtype: float64\n",
      "서울    10.916667\n",
      "대전     2.916667\n",
      "대구     1.666667\n",
      "부산    12.333333\n",
      "dtype: float64\n"
     ]
    }
   ],
   "source": [
    "print(data.var()) #분산\n",
    "print(data.var(axis=1)) "
   ]
  },
  {
   "cell_type": "code",
   "execution_count": 13,
   "id": "4a83afbf-3465-45a1-9217-d9e9dc59ee44",
   "metadata": {},
   "outputs": [
    {
     "name": "stdout",
     "output_type": "stream",
     "text": [
      "01/01    1.258306\n",
      "01/02    2.217356\n",
      "01/03    2.500000\n",
      "01/04    2.629956\n",
      "dtype: float64\n",
      "서울    3.304038\n",
      "대전    1.707825\n",
      "대구    1.290994\n",
      "부산    3.511885\n",
      "dtype: float64\n"
     ]
    }
   ],
   "source": [
    "print(data.std()) #표준편차 \n",
    "print(data.std(axis=1)) "
   ]
  },
  {
   "cell_type": "code",
   "execution_count": 14,
   "id": "d516ed0c-ab53-4112-bb01-9cd48aed533b",
   "metadata": {},
   "outputs": [
    {
     "name": "stdout",
     "output_type": "stream",
     "text": [
      "01/01    2.0\n",
      "01/02   -2.0\n",
      "01/03    0.5\n",
      "01/04    1.5\n",
      "Name: 0.5, dtype: float64\n",
      "01/01    1.6\n",
      "01/02   -3.8\n",
      "01/03   -0.8\n",
      "01/04   -0.6\n",
      "Name: 0.2, dtype: float64\n",
      "서울   -1.0\n",
      "대전    1.5\n",
      "대구    0.5\n",
      "부산    0.5\n",
      "Name: 0.5, dtype: float64\n"
     ]
    }
   ],
   "source": [
    "print(data.quantile()) #기본 값이 0.5로 백분위 50퍼의 값을 구해준다. print()\n",
    "print(data.quantile(q=0.2)) # q=0.2로 백분위 20퍼의 값을 구해준다. print()\n",
    "print(data.quantile(axis=1)) #행마다 백분위 50퍼의 값을 구해준다"
   ]
  },
  {
   "cell_type": "code",
   "execution_count": 15,
   "id": "4eeaa998-99a1-415b-970b-143ba36fa858",
   "metadata": {},
   "outputs": [
    {
     "name": "stdout",
     "output_type": "stream",
     "text": [
      "-1.25\n"
     ]
    }
   ],
   "source": [
    "print(data.iloc()[0].mean()) #0번째 행의 평균"
   ]
  },
  {
   "cell_type": "code",
   "execution_count": 16,
   "id": "37f49dce-915d-4e08-b579-79a7bd2e2278",
   "metadata": {},
   "outputs": [
    {
     "name": "stdout",
     "output_type": "stream",
     "text": [
      "1.2583057392117916\n"
     ]
    }
   ],
   "source": [
    "print(data['01/01'].std()) #1월 1일의 표준편차 "
   ]
  },
  {
   "cell_type": "code",
   "execution_count": null,
   "id": "0f7a93af-d9f2-41f8-8d7b-bdbbdda65576",
   "metadata": {},
   "outputs": [],
   "source": []
  }
 ],
 "metadata": {
  "kernelspec": {
   "display_name": "Python 3 (ipykernel)",
   "language": "python",
   "name": "python3"
  },
  "language_info": {
   "codemirror_mode": {
    "name": "ipython",
    "version": 3
   },
   "file_extension": ".py",
   "mimetype": "text/x-python",
   "name": "python",
   "nbconvert_exporter": "python",
   "pygments_lexer": "ipython3",
   "version": "3.11.7"
  }
 },
 "nbformat": 4,
 "nbformat_minor": 5
}
